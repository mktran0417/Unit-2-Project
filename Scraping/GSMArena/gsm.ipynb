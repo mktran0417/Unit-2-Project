{
 "cells": [
  {
   "cell_type": "code",
   "execution_count": 1,
   "metadata": {},
   "outputs": [],
   "source": [
    "from selenium import webdriver\n",
    "from selenium.webdriver.chrome.options import Options\n",
    "from bs4 import BeautifulSoup\n",
    "import pandas as pd \n",
    "from phonearena import Scrape"
   ]
  },
  {
   "cell_type": "code",
   "execution_count": 2,
   "metadata": {},
   "outputs": [],
   "source": [
    "\n",
    "HOME_URL = 'https://www.phonearena.com/phones'\n"
   ]
  },
  {
   "cell_type": "code",
   "execution_count": 3,
   "metadata": {},
   "outputs": [],
   "source": [
    "#chromium setup for selenium\n",
    "chrome_options = Options()\n",
    "chrome_options.add_argument(\"--headless\")\n",
    "driver = webdriver.Chrome('C:\\Dev\\Michael\\Mobile-Phone-Dataset-GSMArena\\chromedriver.exe', options=chrome_options)\n",
    "driver.set_window_size(1280,1024)\n",
    "driver.get(HOME_URL)\n",
    "driver.implicitly_wait(10)\n",
    "\n",
    "soup = BeautifulSoup(driver.page_source, 'html.parser')\n"
   ]
  },
  {
   "cell_type": "code",
   "execution_count": 4,
   "metadata": {},
   "outputs": [
    {
     "name": "stderr",
     "output_type": "stream",
     "text": [
      "100%|██████████| 807/807 [1:16:39<00:00,  5.70s/it]\n"
     ]
    }
   ],
   "source": [
    "scraper = Scrape(driver)\n",
    "#scraper.scrape_phone_urls()\n",
    "scraper.load_phone_urls('sam-to-end')\n",
    "scraper.scrape_specs()"
   ]
  },
  {
   "cell_type": "code",
   "execution_count": null,
   "metadata": {},
   "outputs": [],
   "source": [
    "scraper = Scrape(driver)\n",
    "scraper.load_phone_urls('failed')\n",
    "scraper.scrape_specs()\n"
   ]
  },
  {
   "cell_type": "code",
   "execution_count": 5,
   "metadata": {},
   "outputs": [
    {
     "data": {
      "text/plain": [
       "['\\n\\nAMPS only for 2125i\\n                    \\n',\n",
       " '\\n\\nSGH-D300 supports GSM 900/1800/1900 MHz\\n                    \\n',\n",
       " '\\n\\nUS version supports GSM 850/1800/1900 MHz only\\n                    \\n',\n",
       " '\\n\\nSGH-E630 supports GSM 900/1800/1900 MHz\\n                    \\n',\n",
       " '\\n\\nOther version supports GSM 900/1800/1900 MHz\\n                    \\n',\n",
       " '\\n\\nOther version supports GSM 900/1800 MHz\\n                    \\n',\n",
       " '\\n\\nOther version supports GSM 900/1800 MHz\\n                    \\n',\n",
       " '\\n\\nOther version supports GSM 900/1800 MHz\\n                    \\n',\n",
       " '\\n\\nSGH-C210 supports GSM 900/1800/1900 MHz\\n                    \\n',\n",
       " '\\n\\nNokia 8800 supports GSM 900/1800/1900 MHz\\n                    \\n',\n",
       " '\\n\\nOther version supports GSM 900/1800/1900 MHz\\n                    \\n',\n",
       " '\\n\\nOther version supports GSM 900/1800 MHz\\n                    \\n',\n",
       " '\\n\\nOther version supports GSM 900/1800/1900 MHz\\n                    \\n',\n",
       " '\\n\\nNot all versions have AMPS\\n                    \\n',\n",
       " '\\n\\nsome carrier versions are tri-band (GSM 900/1800/1900 MHz)\\n                    \\n',\n",
       " '\\n\\nOther version supports GSM 900/1800/1900 MHz\\n                    \\n',\n",
       " '\\n\\nOther version supports GSM 850/1800/1900 MHz\\n                    \\n',\n",
       " '\\n\\nOther version supports GSM 900/1800/1900 MHz\\n                    \\n',\n",
       " '\\n\\nOther version supports GSM 900/1800/1900 MHz\\n                    \\n',\n",
       " '\\n\\nOther version supports GSM 900/1800/1900 MHz\\n                    \\n',\n",
       " '\\n\\n6681 supports GSM 900/1800/1900 MHz\\n                    \\n',\n",
       " '\\n\\nK300i / K300c support GSM 900/1800/1900 MHz\\n                    \\n',\n",
       " '\\n\\nA768 supports GSM 900/1800 MHz\\n                    \\n',\n",
       " '\\n\\nOther version supports GSM 900/1800/1900 MHz\\n                    \\n',\n",
       " '\\n\\nOther version supports GSM 900/1800/1900 MHz\\n                    \\n',\n",
       " '\\n\\nOther version supports GSM 900/1800 MHz\\n                    \\n',\n",
       " '\\n\\n2650 supports GSM 900/1800 MHz\\n                    \\n',\n",
       " '\\n\\nOther version supports GSM 900/1800/1900 MHz\\n                    \\n',\n",
       " '\\n\\nOther version supports GSM 900/1800/1900 MHz\\n                    \\n',\n",
       " '\\n\\nUMTS(WCDMA) / FOMA\\n                    \\n',\n",
       " '\\n\\nOther version supports GSM 900/1800 MHz\\n                    \\n',\n",
       " '\\n\\nPV-108 supports GSM 850/1800/1900 MHz\\n                    \\n',\n",
       " '\\n\\nK493 supports CDMA 1900 MHz only\\n                    \\n',\n",
       " '\\n\\nSMT5600 supports GSM 850/1800/1900 MHz\\n                    \\n',\n",
       " '\\n\\nP910a supports GSM 850/1800/1900 MHz\\n                    \\n',\n",
       " '\\n\\nOther version supports GSM 900/1800/1900 MHz\\n                    \\n',\n",
       " '\\n\\nOther version supports GSM 900/1800/1900 MHz\\n                    \\n',\n",
       " '\\n\\nC65 supports GSM 900/1800/1900 MHz\\n                    \\n',\n",
       " '\\n\\nOther version supports GSM 900/1800/1900 MHz\\n                    \\n',\n",
       " '\\n\\nS65 supports GSM 900/1800/1900 MHz\\n                    \\n',\n",
       " '\\n\\nSP230 supports GSM 900/1800/1900 MHz\\n                    \\n',\n",
       " '\\n\\nSGH-P710 supports GSM 900/1800/1900 MHz\\n                    \\n',\n",
       " '\\n\\ndepending on the carrier, the phone can be dual, tri or quad-band\\n                    \\n',\n",
       " '\\n\\nOther version supports GSM 900/1800 MHz\\n                    \\n',\n",
       " '\\n\\nNEC e232 supports GSM 900/1800/1900 MHz\\n                    \\n',\n",
       " '\\n\\nS700 supports GSM 900/1800/1900 MHz\\n                    \\n',\n",
       " '\\n\\n6012 - only CDMA 800 MHz and AMPS; 6011i - only CDMA 1900 MHz\\n                    \\n',\n",
       " '\\n\\n7610B supports GSM 850/1800/1900 MHz\\n                    \\n',\n",
       " '\\n\\nL1150 supports GSM 850/900/1800/1900 MHz\\n                    \\n',\n",
       " '\\n\\nOther version supports GSM 900/1800/1900 MHz\\n                    \\n',\n",
       " '\\n\\nS330 supports GSM 900/1800 MHz\\n                    \\n',\n",
       " '\\n\\nOther version supports GSM 850/1800/1900 MHz\\n                    \\n',\n",
       " '\\n\\nCF63 supports GSM 850/1800/1900 MHz\\n                    \\n',\n",
       " '\\n\\nCX65 supports GSM 900/1800/1900 MHz\\n                    \\n',\n",
       " '\\n\\nVoq A11 supports GSM 850/1800/1900 MHz\\n                    \\n',\n",
       " '\\n\\n7780 supports GSM 850/1800/1900 MHz\\n                    \\n',\n",
       " '\\n\\nM551 supports GSM 850/1900 MHz\\n                    \\n',\n",
       " '\\n\\nCDM-8610 supports CDMA 1900 MHz only\\n                    \\n',\n",
       " '\\n\\n6820i supports GSM 900/1800/1900 MHz\\n                    \\n',\n",
       " '\\n\\nSGH-D410 supports GSM 900/1800/1900 MHz\\n                    \\n',\n",
       " '\\n\\nAMPS only for VX-7000A\\n                    \\n',\n",
       " '\\n\\nOther version supports GSM 900/1800/1900 MHz\\n                    \\n',\n",
       " '\\n\\nOther version supports GSM 900/1800 MHz\\n                    \\n',\n",
       " '\\n\\nOther version supports GSM 900/1800/1900 MHz\\n                    \\n',\n",
       " '\\n\\nOther version supports GSM 900/1800/1900 MHz\\n                    \\n',\n",
       " '\\n\\nOther version supports GSM 900/1800/1900 MHz\\n                    \\n',\n",
       " '\\n\\nOther version supports GSM 900/1800/1900 MHz\\n                    \\n',\n",
       " '\\n\\n5400A supports only AMPS\\n                    \\n',\n",
       " '\\n\\nG60 supports GSM 900/1800 MHz\\n                    \\n']"
      ]
     },
     "execution_count": 5,
     "metadata": {},
     "output_type": "execute_result"
    }
   ],
   "source": [
    "scraper.failed"
   ]
  },
  {
   "cell_type": "code",
   "execution_count": 5,
   "metadata": {},
   "outputs": [],
   "source": [
    "del(scraper)\n",
    "driver.quit()"
   ]
  },
  {
   "cell_type": "code",
   "execution_count": 6,
   "metadata": {},
   "outputs": [],
   "source": [
    "scraper.dump_json('sam-to-end.json')"
   ]
  }
 ],
 "metadata": {
  "interpreter": {
   "hash": "4b7a67c094ca4859574ab7812cb20959fc8d8ba5f9f349a7149ef35bab6b6336"
  },
  "kernelspec": {
   "display_name": "Python 3.9.6 64-bit",
   "name": "python3"
  },
  "language_info": {
   "codemirror_mode": {
    "name": "ipython",
    "version": 3
   },
   "file_extension": ".py",
   "mimetype": "text/x-python",
   "name": "python",
   "nbconvert_exporter": "python",
   "pygments_lexer": "ipython3",
   "version": "3.9.6"
  },
  "orig_nbformat": 4
 },
 "nbformat": 4,
 "nbformat_minor": 2
}
